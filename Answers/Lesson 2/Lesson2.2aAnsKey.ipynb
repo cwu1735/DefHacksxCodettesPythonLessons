{
 "cells": [
  {
   "cell_type": "markdown",
   "source": [
    "# **Python 101 by DefHacks x Codettes**\r\n",
    "## Lesson 2.1a: Chinese Zodiac Sign Calculator\r\n",
    "### The Chinese zodiac is a classification scheme based on the lunar calendar that assigns an animal and its reputed attributes to each year in a repeating 12-year cycle. Each year represents a different animal, 2021 represents the year of the Ox. The animal that represents a corresponding year can be calculated by using modulus (%):\r\n",
    "### * If the year % 12 == 0, it is the year of the Monkey\r\n",
    "### * If the year % 12 == 1, it is the year of the Rooster\r\n",
    "### * If the year % 12 == 2, it is the year of the Dog\r\n",
    "### * If the year % 12 == 3, it is the year of the Pig\r\n",
    "### * If the year % 12 == 4, it is the year of the Rat\r\n",
    "### * If the year % 12 == 5, it is the year of the Ox\r\n",
    "### * If the year % 12 == 6, it is the year of the Tiger\r\n",
    "### * If the year % 12 == 7, it is the year of the Rabbit\r\n",
    "### * If the year % 12 == 8, it is the year of the Dragon\r\n",
    "### * If the year % 12 == 9, it is the year of the Snake\r\n",
    "### * If the year % 12 == 10, it is the year of the Horse\r\n",
    "### * If the year % 12 == 11, it is the year of the Goat\r\n",
    "### **Your task is to ask a user for a year and output what Chinese Zodiac sign corresponds to it.** \r\n",
    "### **Here is a sample output:**\r\n",
    "### Input the year: **2005**\r\n",
    "### 2005 is the year of the Rooster\r\n",
    "</br>\r\n",
    "\r\n",
    "### **Let's begin with the setup. In Task 1, we will need to make a variable asking the user for the year.**"
   ],
   "metadata": {}
  },
  {
   "cell_type": "code",
   "execution_count": null,
   "source": [
    "# Task 1\r\n",
    "year = int(input(\"Input the year: \"))"
   ],
   "outputs": [],
   "metadata": {}
  },
  {
   "cell_type": "markdown",
   "source": [
    "### Now, let's setup our if statement.\r\n",
    "### **In Task 2, paste your work from Task 1 write an if statement with the 12 results of year % 12 and have it print \" ___ is the year of the ___\"**"
   ],
   "metadata": {}
  },
  {
   "cell_type": "code",
   "execution_count": null,
   "source": [
    "# Task 2\r\n",
    "# Paste Task 1 Work\r\n",
    "year = int(input(\"Input the year: \"))\r\n",
    "# Task 2 work\r\n",
    "if year % 12 == 0:\r\n",
    "    print(str(year) + \"is the year of the Monkey\")\r\n",
    "elif year % 12 == 1:\r\n",
    "    print(str(year) + \"is the year of the Rooster\")\r\n",
    "elif year % 12 == 2:\r\n",
    "    print(str(year) + \"is the year of the Dog\")\r\n",
    "elif year % 12 == 3:\r\n",
    "    print(str(year) + \"is the year of the Pig\")\r\n",
    "elif year % 12 == 4:\r\n",
    "    print(str(year) + \"is the year of the Rat\")\r\n",
    "elif year % 12 == 5:\r\n",
    "    print(str(year) + \"is the year of the Ox\")\r\n",
    "elif year % 12 == 6:\r\n",
    "    print(str(year) + \"is the year of the Tiger\")\r\n",
    "elif year % 12 == 7:\r\n",
    "    print(str(year) + \"is the year of the Rabbit\")\r\n",
    "elif year % 12 == 8:\r\n",
    "    print(str(year) + \"is the year of the Dragon\")\r\n",
    "elif year % 12 == 9:\r\n",
    "    print(str(year) + \"is the year of the Snake\")\r\n",
    "elif year % 12 == 10:\r\n",
    "    print(str(year) + \"is the year of the Horse\")\r\n",
    "elif year % 12 == 11:\r\n",
    "    print(str(year) + \"is the year of the Goat\")\r\n"
   ],
   "outputs": [],
   "metadata": {}
  },
  {
   "cell_type": "markdown",
   "source": [
    "### You have now completed Lesson 2.1, you may move onto Lesson 2.2"
   ],
   "metadata": {}
  }
 ],
 "metadata": {
  "orig_nbformat": 4,
  "language_info": {
   "name": "python",
   "version": "3.9.5"
  },
  "kernelspec": {
   "name": "python3",
   "display_name": "Python 3.9.5 64-bit"
  },
  "interpreter": {
   "hash": "57990f1ad2ea89c67ddae7f31d40c478205c5912da0fccfb7c5cfbb2b8bf17ad"
  }
 },
 "nbformat": 4,
 "nbformat_minor": 2
}