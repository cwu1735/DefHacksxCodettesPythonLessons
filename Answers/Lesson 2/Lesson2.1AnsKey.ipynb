{
 "cells": [
  {
   "cell_type": "markdown",
   "source": [
    "# **Python 101 by DefHacks x Codettes**\r\n",
    "## Lesson 2.1: Minimum and Maximum \r\n",
    "### In Lesson 2.1, we will be asking the user for five integers and at the end giving the the largest and smallest number of the five that the user gave.\r\n",
    "### **Here is a sample output:**\r\n",
    "### Enter the first number: **1**\r\n",
    "### Enter the second number: **2**\r\n",
    "### Enter the third number: **3**\r\n",
    "### Enter the fourth number: **4**\r\n",
    "### Enter the fifth number: **5**\r\n",
    "### The largest number is 5\r\n",
    "### The smallest number is 1\r\n",
    "</br>\r\n",
    "\r\n",
    "### To setup, we will create a variable (userInput1) which will ask the user for a number. We will then create two variables (largestNumber) and (smallestNumber) both equal to userInput1\r\n",
    "### **Create the setup in Task 1:**"
   ],
   "metadata": {}
  },
  {
   "cell_type": "code",
   "execution_count": null,
   "source": [
    "# Task 1\r\n",
    "userInput1 = int(input(\"Enter the first number: \"))\r\n",
    "largestNumber = userInput1\r\n",
    "smallestNumber = userInput1"
   ],
   "outputs": [],
   "metadata": {}
  },
  {
   "cell_type": "markdown",
   "source": [
    "### Now, we will create another variable (userInput2) asking the user for the second number. We will then make an if statement which will state that if userInput2 is greater than largestNumber, largestNumber will equal userInput2. We will also use elif to state that if userInput2 is less than smallestNumber, smallestNumber will equal userInput2. \r\n",
    "### **In Task 2, do the work mentioned above and repeat it for userInput3, userInput4, and userInput5.**"
   ],
   "metadata": {}
  },
  {
   "cell_type": "code",
   "execution_count": null,
   "source": [
    "# Task 2\r\n",
    "userInput2 = int(input(\"Enter the second number: \"))\r\n",
    "if userInput2 > largestNumber:\r\n",
    "    largestNumber = userInput2\r\n",
    "elif userInput2 < smallestNumber:\r\n",
    "    smallestNumber = userInput2\r\n",
    "userInput3 = int(input(\"Enter the third number: \"))\r\n",
    "if userInput3 > largestNumber:\r\n",
    "    largestNumber = userInput3\r\n",
    "elif userInput3 < smallestNumber:\r\n",
    "    smallestNumber = userInput3\r\n",
    "userInput4 = int(input(\"Enter the fourth number: \"))\r\n",
    "if userInput4 > largestNumber:\r\n",
    "    largestNumber = userInput4\r\n",
    "elif userInput4 < smallestNumber:\r\n",
    "    smallestNumber = userInput4\r\n",
    "userInput5 = int(input(\"Enter the fifth number: \"))\r\n",
    "if userInput5 > largestNumber:\r\n",
    "    largestNumber = userInput5\r\n",
    "elif userInput5 < smallestNumber:\r\n",
    "    smallestNumber = userInput5\r\n"
   ],
   "outputs": [],
   "metadata": {}
  },
  {
   "cell_type": "markdown",
   "source": [
    "### Now, let's output the results to the user. We will paste the output saying \"The largest number is ___\" and \"The smallest number is ___\"\r\n",
    "### **In Task 3, paste your work from Task 1 and Task 2, and print the results to the user**"
   ],
   "metadata": {}
  },
  {
   "cell_type": "code",
   "execution_count": null,
   "source": [
    "# Task 3\r\n",
    "# Paste Task 1 work\r\n",
    "userInput1 = int(input(\"Enter the first number: \"))\r\n",
    "largestNumber = userInput1\r\n",
    "smallestNumber = userInput1\r\n",
    "# Paste Task 2 work\r\n",
    "userInput2 = int(input(\"Enter the second number: \"))\r\n",
    "if userInput2 > largestNumber:\r\n",
    "    largestNumber = userInput2\r\n",
    "elif userInput2 < smallestNumber:\r\n",
    "    smallestNumber = userInput2\r\n",
    "userInput3 = int(input(\"Enter the third number: \"))\r\n",
    "if userInput3 > largestNumber:\r\n",
    "    largestNumber = userInput3\r\n",
    "elif userInput3 < smallestNumber:\r\n",
    "    smallestNumber = userInput3\r\n",
    "userInput4 = int(input(\"Enter the fourth number: \"))\r\n",
    "if userInput4 > largestNumber:\r\n",
    "    largestNumber = userInput4\r\n",
    "elif userInput4 < smallestNumber:\r\n",
    "    smallestNumber = userInput4\r\n",
    "userInput5 = int(input(\"Enter the fifth number: \"))\r\n",
    "if userInput5 > largestNumber:\r\n",
    "    largestNumber = userInput5\r\n",
    "elif userInput5 < smallestNumber:\r\n",
    "    smallestNumber = userInput5\r\n",
    "#Task 3 work\r\n",
    "print(\"The largest number is \" + str(largestNumber))\r\n",
    "print(\"The smallest number is \" + str(smallestNumber))"
   ],
   "outputs": [],
   "metadata": {}
  }
 ],
 "metadata": {
  "orig_nbformat": 4,
  "language_info": {
   "name": "python",
   "version": "3.9.5"
  },
  "kernelspec": {
   "name": "python3",
   "display_name": "Python 3.9.5 64-bit"
  },
  "interpreter": {
   "hash": "57990f1ad2ea89c67ddae7f31d40c478205c5912da0fccfb7c5cfbb2b8bf17ad"
  }
 },
 "nbformat": 4,
 "nbformat_minor": 2
}