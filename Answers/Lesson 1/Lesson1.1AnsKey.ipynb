{
 "cells": [
  {
   "cell_type": "markdown",
   "source": [
    "# **Python 101 by DefHacks x Codettes**\r\n",
    "## Lesson 1.1: Calculating Average\r\n",
    "### In this task, we will be asking users to input 5 numbers and giving the average of those five numbers\r\n",
    "### **Here is a sample output:**\r\n",
    "### What is the first number? **1**\r\n",
    "### What is the second number? **2**\r\n",
    "### What is the third number? **3**\r\n",
    "### What is the fourth number? **4**\r\n",
    "### What is the fifth number? **5**\r\n",
    "### The average of 1, 2, 3, 4, and 5 is 3\r\n",
    "</br>\r\n",
    "\r\n",
    "### To setup our program, let's make five variables that will ask the user to input the first, second, third, fourth, and fifth number. \r\n",
    "### **Make sure to declare your five variables as integers\r\n",
    "### **Do the following below in Task 1:**"
   ],
   "metadata": {}
  },
  {
   "cell_type": "code",
   "execution_count": null,
   "source": [
    "# Task 1\r\n",
    "userInput1 = int(input(\"What is the first number?\"))\r\n",
    "userInput2 = int(input(\"What is the second number?\"))\r\n",
    "userInput3 = int(input(\"What is the third number?\"))\r\n",
    "userInput4 = int(input(\"What is the fourth number?\"))\r\n",
    "userInput5 = int(input(\"What is the fifth number?\"))"
   ],
   "outputs": [],
   "metadata": {}
  },
  {
   "cell_type": "markdown",
   "source": [
    "### Now, let's calculate the average of the five numbers. We know that the average of these five numbers is calculated by adding the five numbers and dividing it by five. \n",
    "### **In Task 2, create a variable below and calculate the average of the five numbers (make sure to declare this variable as an integer as division returns a float):**"
   ],
   "metadata": {}
  },
  {
   "cell_type": "code",
   "execution_count": null,
   "source": [
    "# Task 2\r\n",
    "totalSum = userInput1 + userInput2 + userInput3 + userInput4 + userInput5\r\n",
    "average = int(totalSum / 5)"
   ],
   "outputs": [],
   "metadata": {}
  },
  {
   "cell_type": "markdown",
   "source": [
    "### Now that we have all the information that we need, let's output it to the user in the following format:\n",
    "### The average of ___, ___, ___, ___, and ___ is ___\n",
    "### Hint: Make sure that you convert your integer variables into strings in the print statement\n",
    "### **In Task 3, paste your code from Task 1 and Task 2, and make your print statement:**"
   ],
   "metadata": {}
  },
  {
   "cell_type": "code",
   "execution_count": null,
   "source": [
    "# Task 3\r\n",
    "#Paste your work from Task 1\r\n",
    "userInput1 = int(input(\"What is the first number?\"))\r\n",
    "userInput2 = int(input(\"What is the second number?\"))\r\n",
    "userInput3 = int(input(\"What is the third number?\"))\r\n",
    "userInput4 = int(input(\"What is the fourth number?\"))\r\n",
    "userInput5 = int(input(\"What is the fifth number?\"))\r\n",
    "# Paste your work from Task 2\r\n",
    "totalSum = userInput1 + userInput2 + userInput3 + userInput4 + userInput5\r\n",
    "average = int(totalSum / 5)\r\n",
    "\r\n",
    "print(\"The average of \" + str(userInput1) + \", \" + str(userInput2) + \", \" + str(userInput3) + \", \" + str(userInput4) + \", and \" + str(userInput5) + \" is \" + str(average))\r\n"
   ],
   "outputs": [],
   "metadata": {}
  },
  {
   "cell_type": "markdown",
   "source": [
    "### Congrats, you have finished your first Python project!"
   ],
   "metadata": {}
  }
 ],
 "metadata": {
  "orig_nbformat": 4,
  "language_info": {
   "name": "python",
   "version": "3.9.6",
   "mimetype": "text/x-python",
   "codemirror_mode": {
    "name": "ipython",
    "version": 3
   },
   "pygments_lexer": "ipython3",
   "nbconvert_exporter": "python",
   "file_extension": ".py"
  },
  "kernelspec": {
   "name": "python3",
   "display_name": "Python 3.9.6 64-bit"
  },
  "interpreter": {
   "hash": "aee8b7b246df8f9039afb4144a1f6fd8d2ca17a180786b69acc140d282b71a49"
  }
 },
 "nbformat": 4,
 "nbformat_minor": 2
}