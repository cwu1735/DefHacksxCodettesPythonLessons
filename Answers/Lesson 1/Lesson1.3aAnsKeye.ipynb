{
 "cells": [
  {
   "cell_type": "markdown",
   "source": [
    "# **Python 101 by DefHacks x Codettes**\r\n",
    "## Lesson 1.3a: The Quadratic Formula\r\n",
    "### The Quadratic Formula is used to find the x-intercepts in the quadratic equation.\r\n",
    "### The quadratic is written as ax^2 + bx + c, a != 0\r\n",
    "### The quadratic formula, (-b ± √(b^2 - 4ac))/2a, can be used to solve for x\r\n",
    "### **In this program, you will ask the user to input the values for a,b, and c, and you will output the two answers for x**\r\n",
    "### **Here is a sample output:**\r\n",
    "### What is the value of a? **1**\r\n",
    "### What is the value of b? **-3**\r\n",
    "### What is the value of c? **-4**\r\n",
    "### In the equation 1x^2 + -3x + -4 = 0\r\n",
    "### x1 = 4.0\r\n",
    "### x2 = -1.0\r\n",
    "<br/> \r\n",
    "\r\n",
    "### To begin, we will need to import the math moduule and define the three variables asking for a, b, and c. Do this in Task 1:"
   ],
   "metadata": {}
  },
  {
   "cell_type": "code",
   "execution_count": null,
   "source": [
    "# Task 1\r\n",
    "import math\r\n",
    "\r\n",
    "a = int(input(\"What is the value of a?\"))\r\n",
    "b = int(input(\"What is the value of b?\"))\r\n",
    "c = int(input(\"What is the value of c?\"))"
   ],
   "outputs": [],
   "metadata": {}
  },
  {
   "cell_type": "markdown",
   "source": [
    "### Now that you have the information that youu need, you will need to calculate the two values of x, x1 and x2.\n",
    "### **In Task 2, make these two variables and calculate for the value of x1 and x2**\n",
    "### Hint: To calculate exponents you can do a**b, which is the same as a^b\n",
    "\n"
   ],
   "metadata": {}
  },
  {
   "cell_type": "code",
   "execution_count": null,
   "source": [
    "# Task 2\r\n",
    "x1 = (-b + math.sqrt(b ** 2 - 4 * a * c))/ (2 * a)\r\n",
    "x2 = (-b - math.sqrt(b ** 2 - 4 * a * c))/ (2 * a)"
   ],
   "outputs": [],
   "metadata": {}
  },
  {
   "cell_type": "markdown",
   "source": [
    "### Now, you will need to print the results that you got. Do them in the following format:\n",
    "### In the equation ax^2 + bx + c = 0 (use the values that the user put in)\n",
    "### x1 = ___\n",
    "### x2 = ___\n",
    "### In task 3, paste your work from Task 1 and Task 2 and complete the print statements:"
   ],
   "metadata": {}
  },
  {
   "cell_type": "code",
   "execution_count": 2,
   "source": [
    "# Task 3\r\n",
    "# Paste Task 1 Work\r\n",
    "import math\r\n",
    "\r\n",
    "a = int(input(\"What is the value of a?\"))\r\n",
    "b = int(input(\"What is the value of b?\"))\r\n",
    "c = int(input(\"What is the value of c?\"))\r\n",
    "\r\n",
    "# Paste Task 2 Work\r\n",
    "x1 = (-b + math.sqrt(b ** 2 - 4 * a * c)) / (2 * a)\r\n",
    "x2 = (-b - math.sqrt(b ** 2 - 4 * a * c)) / (2 * a)\r\n",
    "# Task 3 work\r\n",
    "print(\"In the equation \" + str(a) + \"x^2 + \" + str(b) + \"x + \" + str(c) + \" = 0\")\r\n",
    "print(\"x1 = \" + str(x1))\r\n",
    "print(\"x2 = \" + str(x2))"
   ],
   "outputs": [
    {
     "output_type": "stream",
     "name": "stdout",
     "text": [
      "In the equation 1x^2 + -3x + -4 = 0\n",
      "x1 = 4.0\n",
      "x2 = -1.0\n"
     ]
    }
   ],
   "metadata": {}
  },
  {
   "cell_type": "markdown",
   "source": [
    "### Congrats on finishing all of Lesson 1!"
   ],
   "metadata": {}
  }
 ],
 "metadata": {
  "orig_nbformat": 4,
  "language_info": {
   "name": "python",
   "version": "3.9.6",
   "mimetype": "text/x-python",
   "codemirror_mode": {
    "name": "ipython",
    "version": 3
   },
   "pygments_lexer": "ipython3",
   "nbconvert_exporter": "python",
   "file_extension": ".py"
  },
  "kernelspec": {
   "name": "python3",
   "display_name": "Python 3.9.5 64-bit"
  },
  "interpreter": {
   "hash": "57990f1ad2ea89c67ddae7f31d40c478205c5912da0fccfb7c5cfbb2b8bf17ad"
  }
 },
 "nbformat": 4,
 "nbformat_minor": 2
}