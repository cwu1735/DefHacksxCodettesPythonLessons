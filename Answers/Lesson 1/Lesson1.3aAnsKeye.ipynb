{
 "cells": [
  {
   "cell_type": "markdown",
   "source": [
    "# **Python 101 by DefHacks x Codettes**\n",
    "## Lesson 1.3a: The Quadratic Formula\n",
    "### The Quadratic Formula is used to find the x-intercepts in the quadratic equation.\n",
    "### The quadratic is written as ax^2 + bx + c, a != 0\n",
    "### The quadratic formula, (-b ± √(b^2 - 4ac))/2a, can be used to solve for x\n",
    "### **In this program, you will ask the user to input the values for a,b, and c, and you will output the two answers for x**\n",
    "<br/> \n",
    "\n",
    "### To begin, we will need to import the math moduule and define the three variables asking for a, b, and c. Do this in Task 1:"
   ],
   "metadata": {}
  },
  {
   "cell_type": "code",
   "execution_count": null,
   "source": [
    "# Task 1\n",
    "import math\n",
    "\n",
    "a = int(input(\"What is the value of a?\"))\n",
    "b = int(input(\"What is the value of b?\"))\n",
    "c = int(input(\"What is the value of c?\"))"
   ],
   "outputs": [],
   "metadata": {}
  },
  {
   "cell_type": "markdown",
   "source": [
    "### Now that you have the information that youu need, you will need to calculate the two values of x, x1 and x2.\n",
    "### **In Task 2, make these two variables and calculate for the value of x1 and x2**\n",
    "### Hint: To calculate exponents you can do a**b, which is the same as a^b\n",
    "\n"
   ],
   "metadata": {}
  },
  {
   "cell_type": "code",
   "execution_count": null,
   "source": [
    "# Task 2\n",
    "x1 = (-b + math.sqrt(b ** 2 - 4 * a * c))/ (2 * a)\n",
    "x2 = (-b - math.sqrt(b ** 2 - 4 * a * c))/ (2 * a)"
   ],
   "outputs": [],
   "metadata": {}
  },
  {
   "cell_type": "markdown",
   "source": [
    "### Now, you will need to print the results that you got. Do them in the following format:\n",
    "### In the equation ax^2 + bx + c = 0 (use the values that the user put in)\n",
    "### x1 = ___\n",
    "### x2 = ___\n",
    "### In task 3, paste your work from Task 1 and Task 2 and complete the print statements:"
   ],
   "metadata": {}
  },
  {
   "cell_type": "code",
   "execution_count": 17,
   "source": [
    "# Task 3\n",
    "# Paste Task 1 Work\n",
    "import math\n",
    "\n",
    "a = int(input(\"What is the value of a?\"))\n",
    "b = int(input(\"What is the value of b?\"))\n",
    "c = int(input(\"What is the value of c?\"))\n",
    "\n",
    "# Paste Task 2 Work\n",
    "x1 = (-b + math.sqrt(b ** 2 - 4 * a * c)) / (2 * a)\n",
    "x2 = (-b - math.sqrt(b ** 2 - 4 * a * c)) / (2 * a)\n",
    "# Task 3 work\n",
    "print(\"In the equation \" + str(a) + \"x^2 + \" + str(b) + \"x + \" + str(c) + \" = 0\")\n",
    "print(\"x1 = \" + str(x1))\n",
    "print(\"x2 = \" + str(x2))"
   ],
   "outputs": [
    {
     "output_type": "stream",
     "name": "stdout",
     "text": [
      "In the equation 1x^2 + 5x + 6 = 0\n",
      "x1 = -2.0\n",
      "x2 = -3.0\n"
     ]
    }
   ],
   "metadata": {}
  },
  {
   "cell_type": "markdown",
   "source": [
    "### Congrats on finishing all of Lesson 1!"
   ],
   "metadata": {}
  }
 ],
 "metadata": {
  "orig_nbformat": 4,
  "language_info": {
   "name": "python",
   "version": "3.9.6",
   "mimetype": "text/x-python",
   "codemirror_mode": {
    "name": "ipython",
    "version": 3
   },
   "pygments_lexer": "ipython3",
   "nbconvert_exporter": "python",
   "file_extension": ".py"
  },
  "kernelspec": {
   "name": "python3",
   "display_name": "Python 3.9.6 64-bit"
  },
  "interpreter": {
   "hash": "aee8b7b246df8f9039afb4144a1f6fd8d2ca17a180786b69acc140d282b71a49"
  }
 },
 "nbformat": 4,
 "nbformat_minor": 2
}