{
 "cells": [
  {
   "cell_type": "markdown",
   "source": [
    "# **Python 101 by DefHacks x Codettes**\r\n",
    "## Lesson 1.3: The Quadratic Formula\r\n",
    "### The Quadratic Formula is used to find the x-intercepts in the quadratic equation.\r\n",
    "### The quadratic is written as ax^2 + bx + c, a != 0\r\n",
    "### The quadratic formula, (-b ± √(b^2 - 4ac))/2a, can be used to solve for x\r\n",
    "### **In this program, you will ask the user to input the values for a,b, and c, and you will output the two answers for x**\r\n",
    "### **Here is a sample output:**\r\n",
    "### What is the value of a? **1**\r\n",
    "### What is the value of b? **-3**\r\n",
    "### What is the value of c? **-4**\r\n",
    "### In the equation 1x^2 + -3x + -4 = 0\r\n",
    "### x1 = 4.0\r\n",
    "### x2 = -1.0\r\n",
    "</br>\r\n",
    "\r\n",
    "### If you would like to be guided through the process of making this project, complete Lesson 1.3a"
   ],
   "metadata": {}
  },
  {
   "cell_type": "code",
   "execution_count": null,
   "source": [
    "# Task 1\r\n",
    "import math\r\n",
    "\r\n",
    "a = int(input(\"What is the value of a?\"))\r\n",
    "b = int(input(\"What is the value of b?\"))\r\n",
    "c = int(input(\"What is the value of c?\"))\r\n",
    "\r\n",
    "x1 = (-b + math.sqrt(b ** 2 - 4 * a * c)) / (2 * a)\r\n",
    "x2 = (-b - math.sqrt(b ** 2 - 4 * a * c)) / (2 * a)\r\n",
    "\r\n",
    "print(\"In the equation \" + str(a) + \"x^2 + \" + str(b) + \"x + \" + str(c) + \" = 0\")\r\n",
    "print(\"x1 = \" + str(x1))\r\n",
    "print(\"x2 = \" + str(x2))"
   ],
   "outputs": [],
   "metadata": {}
  },
  {
   "cell_type": "markdown",
   "source": [
    "### Congrats on finishing all of Lesson 1! You may now move onto Lesson 2"
   ],
   "metadata": {}
  }
 ],
 "metadata": {
  "orig_nbformat": 4,
  "language_info": {
   "name": "python",
   "version": "3.9.6",
   "mimetype": "text/x-python",
   "codemirror_mode": {
    "name": "ipython",
    "version": 3
   },
   "pygments_lexer": "ipython3",
   "nbconvert_exporter": "python",
   "file_extension": ".py"
  },
  "kernelspec": {
   "name": "python3",
   "display_name": "Python 3.9.6 64-bit"
  },
  "interpreter": {
   "hash": "aee8b7b246df8f9039afb4144a1f6fd8d2ca17a180786b69acc140d282b71a49"
  }
 },
 "nbformat": 4,
 "nbformat_minor": 2
}