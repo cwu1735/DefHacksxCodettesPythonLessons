{
 "cells": [
  {
   "cell_type": "markdown",
   "source": [
    "# **Python 101 by DefHacks x Codettes**\r\n",
    "## Lesson 4.2: Greatest Common Divisor\r\n",
    "### In Lesson 4.2, your job is to ask the user for two numbers and output the greatest integer that will divide both numbers evenly. \r\n",
    "### **Here is a sample output:**\r\n",
    "### Enter the first number: **16**\r\n",
    "### Enter the second number: **24**\r\n",
    "### The greatest common divisor of 16 and 24 is 8\r\n",
    "</br>\r\n",
    "\r\n",
    "### If you would like to be guided through the process of making this project, complete Lesson 3.2a\r\n",
    "### **In Task 1, complete the Greatest Common Divisor project:**"
   ],
   "metadata": {}
  },
  {
   "cell_type": "code",
   "execution_count": null,
   "source": [
    "# Task 1\r\n",
    "userInput1 = int(input(\"Enter the first number: \"))\r\n",
    "userInput2 = int(input(\"Enter the second number: \"))\r\n",
    "greatestCommonDivisor = 0\r\n",
    "smallestInput = 0\r\n",
    "if userInput1 > userInput2:\r\n",
    "    smallestInput = userInput2\r\n",
    "else:\r\n",
    "    smallestInput = userInput1\r\n",
    "for x in range(2, smallestInput + 1):\r\n",
    "    if userInput1 % x == 0 and userInput2 % x == 0:\r\n",
    "        greatestCommonDivisor = x\r\n",
    "print(\"The Greatest Common Divisor of \" + str(userInput1) + \" and \" + str(userInput2) + \" is \" + str(greatestCommonDivisor))"
   ],
   "outputs": [],
   "metadata": {}
  },
  {
   "cell_type": "markdown",
   "source": [
    "### Congrats on finishing Lesson 4.2, you can now move onto Lesson 5."
   ],
   "metadata": {}
  }
 ],
 "metadata": {
  "orig_nbformat": 4,
  "language_info": {
   "name": "python",
   "version": "3.9.5"
  },
  "kernelspec": {
   "name": "python3",
   "display_name": "Python 3.9.5 64-bit"
  },
  "interpreter": {
   "hash": "57990f1ad2ea89c67ddae7f31d40c478205c5912da0fccfb7c5cfbb2b8bf17ad"
  }
 },
 "nbformat": 4,
 "nbformat_minor": 2
}