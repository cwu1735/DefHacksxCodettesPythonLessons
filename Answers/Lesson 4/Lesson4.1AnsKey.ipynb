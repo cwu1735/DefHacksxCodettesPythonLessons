{
 "cells": [
  {
   "cell_type": "markdown",
   "source": [
    "# **Python 101 by DefHacks x Codettes**\r\n",
    "## Lesson 4.1: Prime Number Calculator\r\n",
    "### In this lesson, we will be asking the user for an input and determining whether it is a prime number or not. \r\n",
    "### **Here is an example output**\r\n",
    "### Enter a number: **31**\r\n",
    "### 31 is a prime number\r\n",
    "### **Here is another example of an output**\r\n",
    "### Enter a number: **49**\r\n",
    "### 49 is a composite number\r\n",
    "### The smallest integer greater than 1 that divides it evenly is 7\r\n",
    "</br>\r\n",
    "\r\n",
    "### To begin, we will need to create a variable (userInput) to ask the user to enter an input. We will also make another variable (isPrime) set to True. Lastly, we will make a number compositeNumber = 0 \r\n",
    "### **Complete the setup in Task 1:**\r\n"
   ],
   "metadata": {}
  },
  {
   "cell_type": "code",
   "execution_count": null,
   "source": [
    "# Task 1\r\n",
    "userInput = int(input(\"Enter a number: \"))\r\n",
    "isPrime = True\r\n",
    "compositeNumber = 0"
   ],
   "outputs": [],
   "metadata": {}
  },
  {
   "cell_type": "markdown",
   "source": [
    "### Now, let's create our for loop. Your task is to create a for loop that will mod (%) userInput by every integer greater than 1 and less than userInput. You will also make an if statement where if userInput mod a number is equal to 0, isPrime will be false, make compositeNumber equal to the number you were modding userInput by, and break out of the loop.\r\n",
    "### **Create the for loop in Task 2:**"
   ],
   "metadata": {}
  },
  {
   "cell_type": "code",
   "execution_count": null,
   "source": [
    "# Task 2\r\n",
    "for x in range(2, userInput):\r\n",
    "    if userInput % x == 0:\r\n",
    "        compositeNumber = x\r\n",
    "        isPrime = False\r\n",
    "        break\r\n",
    "\r\n"
   ],
   "outputs": [],
   "metadata": {}
  },
  {
   "cell_type": "markdown",
   "source": [
    "### Finally, we will output the result to the user. Create an if/else statement stating that if isPrime is equal to True, you will print \" ___ is a prime number\". You will use else to print \"___ is a composite number\" and \"The smallest number greater than 1 that divides it evenly is ___\".\r\n",
    "### **In Task 3, paste your work from Task 1 and Task 2, and print the results to the user**"
   ],
   "metadata": {}
  },
  {
   "cell_type": "code",
   "execution_count": null,
   "source": [
    "# Task 3\r\n",
    "# Paste Task 1 work\r\n",
    "userInput = int(input(\"Enter a number: \"))\r\n",
    "isPrime = True\r\n",
    "compositeNumber = 0\r\n",
    "# Paste Task 2 work\r\n",
    "for x in range(2, userInput):\r\n",
    "    if userInput % x == 0:\r\n",
    "        compositeNumber = x\r\n",
    "        isPrime = False\r\n",
    "        break\r\n",
    "# Task 3 work\r\n",
    "if isPrime == True:\r\n",
    "    print(str(userInput) + \" is a prime number\")\r\n",
    "else:\r\n",
    "    print(str(userInput) + \" is a composite number\")\r\n",
    "    print(\"The smallest number greater than 1 that divides it evenly is \" + str(compositeNumber))"
   ],
   "outputs": [],
   "metadata": {}
  },
  {
   "cell_type": "markdown",
   "source": [
    "### You have now completed Lesson 4.1 and can now move onto Lesson 4.2"
   ],
   "metadata": {}
  }
 ],
 "metadata": {
  "orig_nbformat": 4,
  "language_info": {
   "name": "python",
   "version": "3.9.6",
   "mimetype": "text/x-python",
   "codemirror_mode": {
    "name": "ipython",
    "version": 3
   },
   "pygments_lexer": "ipython3",
   "nbconvert_exporter": "python",
   "file_extension": ".py"
  },
  "kernelspec": {
   "name": "python3",
   "display_name": "Python 3.9.5 64-bit"
  },
  "interpreter": {
   "hash": "57990f1ad2ea89c67ddae7f31d40c478205c5912da0fccfb7c5cfbb2b8bf17ad"
  }
 },
 "nbformat": 4,
 "nbformat_minor": 2
}