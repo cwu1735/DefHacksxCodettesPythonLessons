{
 "cells": [
  {
   "cell_type": "markdown",
   "source": [
    "# **Python 101 by DefHacks x Codettes**\r\n",
    "## Lesson 3.1: Average Calculator\r\n",
    "### You previously made an average calculator by asking users for five numbers, but what if the user wants to add more numbers? In this project, we will make a new average calculator that will keep asking for numbers until the user inputs the number 0. \r\n",
    "### **Here is a sample output:**\r\n",
    "### Input a number (0 to stop): **-3**\r\n",
    "### Input a number (0 to stop): **-2**\r\n",
    "### Input a number (0 to stop): **-1**\r\n",
    "### Input a number (0 to stop): **1**\r\n",
    "### Input a number (0 to stop): **2**\r\n",
    "### Input a number (0 to stop): **3**\r\n",
    "### Input a number (0 to stop): **0**\r\n",
    "### The final average of the six numbers is 0\r\n",
    "</br>\r\n",
    "\r\n",
    "### Let's setup our program, we will need to make a variable (userInput) asking the user \"Input a number (0 to stop): \", a variable (totalSum) which will add the new numbers each time the user inputs something equal to 0 for now, and we will make a variable (counter) equal to 0.\r\n",
    "### **Do the following in Task 1:**"
   ],
   "metadata": {}
  },
  {
   "cell_type": "code",
   "execution_count": null,
   "source": [
    "# Task 1\r\n",
    "userInput = int(input(\"Input a number (0 to stop): \"))\r\n",
    "totalSum = 0\r\n",
    "counter = 0"
   ],
   "outputs": [],
   "metadata": {}
  },
  {
   "cell_type": "markdown",
   "source": [
    "### Now, we will make the while loop. The while will loop state that while userInput is not equal to 0, the following things will happen:\r\n",
    "### * totalSum will increase by userInput\r\n",
    "### * counter will increase by 1\r\n",
    "### * userInput will be equal to what we made it equal to in Task 1, so asking them to input a new number\r\n",
    "</br>\r\n",
    "\r\n",
    "### **Do the following in Task 2:**"
   ],
   "metadata": {}
  },
  {
   "cell_type": "code",
   "execution_count": null,
   "source": [
    "# Task 2\r\n",
    "while userInput != 0:\r\n",
    "    totalSum += userInput\r\n",
    "    counter += 1\r\n",
    "    userInput = int(input(\"Input a number (0 to stop): \"))"
   ],
   "outputs": [],
   "metadata": {}
  },
  {
   "cell_type": "markdown",
   "source": [
    "### Now, we will calculate the average by creating the variable (finalAverage) equal to the total sum divided by the counter. We will the then print \"The final average of the ___ numbers is ___.\r\n",
    "### **In Task 3, paste your work from Task 1 and Task 2, and do what was mentioned in the lines above:**"
   ],
   "metadata": {}
  },
  {
   "cell_type": "code",
   "execution_count": null,
   "source": [
    "# Task 3\r\n",
    "# Paste Task 1 work\r\n",
    "userInput = int(input(\"Input a number (0 to stop): \"))\r\n",
    "totalSum = 0\r\n",
    "counter = 0\r\n",
    "# Paste Task 2 work\r\n",
    "while userInput != 0:\r\n",
    "    totalSum += userInput\r\n",
    "    counter += 1\r\n",
    "    userInput = int(input(\"Input a number (0 to stop): \"))\r\n",
    "# Task 3 work\r\n",
    "finalAverage = totalSum/counter\r\n",
    "print(\"The sum of the \" + str(counter) + \" numbers is \" + str(finalAverage))\r\n"
   ],
   "outputs": [],
   "metadata": {}
  },
  {
   "cell_type": "markdown",
   "source": [
    "### Congrats on completing Lesson 3.1, you may now move onto Lesson 3.2"
   ],
   "metadata": {}
  }
 ],
 "metadata": {
  "orig_nbformat": 4,
  "language_info": {
   "name": "python",
   "version": "3.9.6",
   "mimetype": "text/x-python",
   "codemirror_mode": {
    "name": "ipython",
    "version": 3
   },
   "pygments_lexer": "ipython3",
   "nbconvert_exporter": "python",
   "file_extension": ".py"
  },
  "kernelspec": {
   "name": "python3",
   "display_name": "Python 3.9.5 64-bit"
  },
  "interpreter": {
   "hash": "57990f1ad2ea89c67ddae7f31d40c478205c5912da0fccfb7c5cfbb2b8bf17ad"
  }
 },
 "nbformat": 4,
 "nbformat_minor": 2
}