{
 "cells": [
  {
   "cell_type": "markdown",
   "source": [
    "# **Python 101 by DefHacks x Codettes**\r\n",
    "## Lesson 3: While Loops\r\n",
    "### Hello everyone, welcome to our third Python lesson. In this lesson we will be going over while loops. If you have any questions, you may ask any of the DefHacks or Codettes execs or consult with the answer key. Good luck!"
   ],
   "metadata": {}
  },
  {
   "cell_type": "markdown",
   "source": [
    "## While Loops\r\n",
    "### A while loop esentially means that when a condition is true, the while loop will run code continuously until the condition that initiated the while loop becomes false. \r\n",
    "### **Here is an example:**"
   ],
   "metadata": {}
  },
  {
   "cell_type": "code",
   "execution_count": null,
   "source": [
    "x = 1\r\n",
    "while x <= 10: # Initiate a while loop with a colon\r\n",
    "    print(x)\r\n",
    "    x += 1 # Increase the value of x by 1, x += 1 is the same as x = x + 1\r\n"
   ],
   "outputs": [],
   "metadata": {}
  },
  {
   "cell_type": "markdown",
   "source": [
    "### The structure and formatting of the while loop is pretty much the same as the if statement. It has a comparison where if it is true, it will do something else. I also setup a way for the while loop to end. I did it by increasing the value of x so that when x is no longer less than or equal to 10, the loop with stop. Another way to end a while loop is to 'break'. \r\n",
    "### **Here is what it would look like:**"
   ],
   "metadata": {}
  },
  {
   "cell_type": "code",
   "execution_count": null,
   "source": [
    "x = 1\r\n",
    "while x <= 10: # Initiate a while loop with a colon\r\n",
    "    print(x)\r\n",
    "    if x == 5: # Created an if statement that will stop the loop if x is equal to 5\r\n",
    "        break\r\n",
    "    x += 1 # Increase the value of x by 1, x += 1 is the same as x = x + 1\r\n"
   ],
   "outputs": [],
   "metadata": {}
  },
  {
   "cell_type": "markdown",
   "source": [
    "### As the example above shows, we made a condition where if the x value is 5, the while loop will end. Now it is your turn to try and make some while loops.\r\n",
    "### **In Task 1, use a while loop to print the only the even numbers from 1-20; you can use the first example as a guideline:**"
   ],
   "metadata": {}
  },
  {
   "cell_type": "code",
   "execution_count": null,
   "source": [
    "# Task 1\r\n",
    "x = 2\r\n",
    "while x <= 20:\r\n",
    "    print(x)\r\n",
    "    x += 2"
   ],
   "outputs": [],
   "metadata": {}
  },
  {
   "cell_type": "markdown",
   "source": [
    "### Now, print the numbers 30-0 that are divisible by 5 with a while loop. \r\n",
    "### **Do the following in Task 2**"
   ],
   "metadata": {}
  },
  {
   "cell_type": "code",
   "execution_count": null,
   "source": [
    "# Task 2\r\n",
    "x = 30\r\n",
    "while x >= 0:\r\n",
    "    print(x)\r\n",
    "    x -= 5"
   ],
   "outputs": [],
   "metadata": {}
  },
  {
   "cell_type": "markdown",
   "source": [
    "### You have now completed Lesson 3, you may now move onto Task 3.1"
   ],
   "metadata": {}
  }
 ],
 "metadata": {
  "orig_nbformat": 4,
  "language_info": {
   "name": "python",
   "version": "3.9.6",
   "mimetype": "text/x-python",
   "codemirror_mode": {
    "name": "ipython",
    "version": 3
   },
   "pygments_lexer": "ipython3",
   "nbconvert_exporter": "python",
   "file_extension": ".py"
  },
  "kernelspec": {
   "name": "python3",
   "display_name": "Python 3.9.5 64-bit"
  },
  "interpreter": {
   "hash": "57990f1ad2ea89c67ddae7f31d40c478205c5912da0fccfb7c5cfbb2b8bf17ad"
  }
 },
 "nbformat": 4,
 "nbformat_minor": 2
}