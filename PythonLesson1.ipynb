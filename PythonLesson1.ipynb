{
 "cells": [
  {
   "cell_type": "markdown",
   "source": [
    "# **Python 101 by DefHacks x Codettes**"
   ],
   "metadata": {}
  },
  {
   "cell_type": "markdown",
   "source": [
    "### Hello everyone, welcome to the first of many Python lessons that we will have this year where you will get a chance to learn the basics of Python. The end goal is to be able to create projects of your choice by the time the Hackathon comes around in the second semester. In this lesson we will be going over printing, variables, inputs, math, and if statements. If you have any questions, you may ask any of the DefHacks or Codettes execs or consult with the answer key. Good luck!"
   ],
   "metadata": {}
  },
  {
   "cell_type": "markdown",
   "source": [
    "# Printing"
   ],
   "metadata": {}
  },
  {
   "cell_type": "markdown",
   "source": [
    "### In Python, we can display something using a print() statement. This is one of the best ways to check your code and make sure its doing what you want it to.\n",
    "\n",
    "### Let's try printing **Hello World**. The code should look like this (You can click the triangle to run the code):"
   ],
   "metadata": {}
  },
  {
   "cell_type": "code",
   "execution_count": null,
   "source": [
    "print(\"Hello World\")"
   ],
   "outputs": [],
   "metadata": {}
  },
  {
   "cell_type": "markdown",
   "source": [
    "### Another concept is the comment. Good code is full of comments to guide the user through what is happening in the program. Comments are denoted using the # symbol. Anything in a line after the # symbol will not be recognized by the program. You will see comments throughout this lesson that will help you understand what is being done in the code. "
   ],
   "metadata": {}
  },
  {
   "cell_type": "code",
   "execution_count": null,
   "source": [
    "print(\"This line is commented\") #Here is the comment. It will not affect the code at all."
   ],
   "outputs": [],
   "metadata": {}
  },
  {
   "cell_type": "markdown",
   "source": [
    "### Now try to print a piece of text of your choice in the following block of code:"
   ],
   "metadata": {}
  },
  {
   "cell_type": "code",
   "execution_count": null,
   "source": [
    "# Task 1\n"
   ],
   "outputs": [],
   "metadata": {}
  },
  {
   "cell_type": "markdown",
   "source": [
    "# **Variables**\n",
    "### Variables in programming are the same as in math. They symbollically represent anything you want! In programming, we use variables with intuitive names to make reading code much easier. Variables can contain letters, numbers, or _ , are case sensitive, and can be any (reasonable) length.\n",
    "\n",
    "**Good Examples:**<br/>\n",
    "x<br/>\n",
    "theta<br/>\n",
    "population<br/>\n",
    "thisVariableHasMultipleWordsInIt<br/>\n",
    "This_is_also_a_proper_variable<br/>\n",
    "\n",
    "**Bad examples:**<br/>\n",
    "This is a bad variable<br/>\n",
    "\"NO!\"<br/>\n",
    "slashes\\and\\colons:are\\bad:<br/>\n",
    "\n",
    "Typically in coding, we like to pick names for our variables that make sense. Also, variables with multiple words should start with a lower case letter, then use upper case letters for following words. This is not a rule in coding, just a convention (something most coders do so they can understand each other's work). \n",
    "\n",
    "### There are four main types of variables: <br/>\n",
    "**Boolean**: A true of false statement <br/>\n",
    "**String**: A collection of characters (words) <br/>\n",
    "**Integer**: A whole number <br/>\n",
    "**Float**: Numbers with decimals <br/>\n",
    "\n",
    "\n",
    "### Let's try combining what we have heard so far, let's print a statement with both text and a variable. Let's look at the following example:"
   ],
   "metadata": {}
  },
  {
   "cell_type": "code",
   "execution_count": null,
   "source": [
    "clubName = \"DefHacks x Codettes\"\n",
    "print(\"This club is called: \" + clubName)"
   ],
   "outputs": [],
   "metadata": {}
  },
  {
   "cell_type": "markdown",
   "source": [
    "### We can see here that the variable that we made is called clubName and it is a string. As it is a string, you will need to put the text in quotation marks. The other types of variables should not be put in quotation marks as they are not strings. We can also see that we added a \"+\" in the print statement to combine the text (string) that you had in the print statement already and the variable that was just made. Now try and see if you can make your own print statement in the following block of code that says: My name is *yourName* and I'm *yourAge* years old. You will need to make two different variables, one for your name (myName) and one for your age (myAge). \n",
    "\n",
    "### **Hint:** print statements can only print strings, meaning that when you try to print your age, which is an integer, you will need to convert it into a string in the print statement. You can do this by typing str(myAge) in the print statement. "
   ],
   "metadata": {}
  },
  {
   "cell_type": "code",
   "execution_count": null,
   "source": [
    "# Task 2\n"
   ],
   "outputs": [],
   "metadata": {}
  },
  {
   "cell_type": "markdown",
   "source": [
    "# Input\n",
    "### The input function allows for users to input values for variables so that there is user interaction in the program. One example of a program with an input looks like this (Answer with DefHacks x Codettes):"
   ],
   "metadata": {}
  },
  {
   "cell_type": "code",
   "execution_count": null,
   "source": [
    "userClubName = input(\"What is your club name?\")\n",
    "print(\"This club is called \" + userClubName)"
   ],
   "outputs": [],
   "metadata": {}
  },
  {
   "cell_type": "markdown",
   "source": [
    "### As you can see from the previous example, we made a variable called userClubName. In this variable, we asked for the user to input their club name by asking a question: What is your club name? The userClubName variable would then be replaced by \"DefHacks x Codettes\". This allows for the print statement to print \"This club is called DefHacks x Codettes.\n",
    "\n",
    "### Now, copy your work from Task 2 into Task 3 and make the program ask users for their name (userName) and age (userAge) and then print everything. \n",
    "\n",
    "### **Note:** Input's are by default set to strings, but someone's age is an integer. As a good habit, set the userAge input to an integer by writing:\n",
    "### userAge = int(input(\"What is your age\"))\n",
    "### Although this seems useless in this scenario as you will need to convert this userAge variable back to a string in the print statement, it is a good habit to do this as Python cannot do math with strings. "
   ],
   "metadata": {}
  },
  {
   "cell_type": "code",
   "execution_count": null,
   "source": [
    "# Task 3\n"
   ],
   "outputs": [],
   "metadata": {}
  },
  {
   "cell_type": "markdown",
   "source": [
    "# Math\n",
    "## There are seven math operators that are found in Python:<br/>\n",
    "### * Addition (+): It is used to find the sum of two or more number <br/>\n",
    "### * Subtraction (-): It is used to subtract one number from another <br/>\n",
    "### * Multiplication (*): It is used to find the product of of two or more values <br/>\n",
    "### * Divison (/): It is used to find the quotient when the first operand is divided by the second operand <br/>\n",
    "### * Modulus (%): It is used to find the remainder when the first operand is divided by the second operand <br/>\n",
    "### * Exponent (**): It is used to raise the first operand to the power of the second operand <br/>\n",
    "### Floor Division (//): It is used to find the largest possible integer when the first operand is divided by the second operand <br/> \n",
    "<br/> \n",
    "<br/> \n",
    "\n",
    "### **Can you make a program that asks the user for an input of a first variable (x), a second variable (y), along with the operator that they want to use and print the sum and product of the two variables?**"
   ],
   "metadata": {}
  },
  {
   "cell_type": "code",
   "execution_count": null,
   "source": [
    "# Task 4\n"
   ],
   "outputs": [],
   "metadata": {}
  },
  {
   "cell_type": "markdown",
   "source": [
    "# If Statements\n",
    "### If statements evaluates if a statement is true or false. If this statement is true, then the program will be instructed to do something else. In the example of a quiz, you could say that if the user inputs the correct answer, then print the text \"Correct!\".\n",
    "### An if statement can have multiple if's in it, this is called elif which is short for else if. The elif statement is pythons way of saying \"if the previous conditions were not true, then try this condition\".\n",
    "### Finally, an if statement may have an else, which is when all the prvious statements are not true.\n",
    "\n",
    "### To set up an if statement, you will need to compare a situation and determine if it is true or false. These comparisons can include:\n",
    "### * If something is equal to something else (==)\n",
    "### * If something is not equal to something else (!=)\n",
    "### * If something is less than something else (<)\n",
    "### * If something is less or equal to something else (<=)\n",
    "### * If something is greater than something else (>)\n",
    "### * If something is greater than or equal to something else (>=)\n",
    "<br/> \n",
    "<br/> \n",
    "\n",
    "### **Let's look at one example where if statements are used**"
   ],
   "metadata": {}
  },
  {
   "cell_type": "code",
   "execution_count": null,
   "source": [
    "correctAnswer = 4\n",
    "userGuess = int(input(\"Pick a number from 1 to 10\"))\n",
    "if userGuess == correctAnswer:\n",
    "    print(\"You guessed correctly!\")\n",
    "elif userGuess + 1 == correctAnswer or userGuess - 1 == correctAnswer:\n",
    "    print(\"So close!\")\n",
    "else:\n",
    "    print(\"You guessed inccorectly\")"
   ],
   "outputs": [],
   "metadata": {}
  },
  {
   "cell_type": "markdown",
   "source": [
    "# Rock, Paper, Scissors\n",
    "### Now that we have learned some of the important Python concepts, let's put them to test! Let's make a rock paper scissors game. \n",
    "### * Let's begin with the setup, here is what you should have:\n",
    "### * A variable called userChoice which asks the user for rock, paper, or scissors\n",
    "### * A variable called computerChoice which will be rock\n",
    "## Add the following in Task 5:"
   ],
   "metadata": {}
  },
  {
   "cell_type": "code",
   "execution_count": null,
   "source": [
    "# Task 5\n"
   ],
   "outputs": [],
   "metadata": {}
  },
  {
   "cell_type": "markdown",
   "source": [
    "### Now, let's determine the win condition and the winner of the game. We know that rock beats scissors, scissors beats paper, and paper beats rock. Let's put this in terms of an if statement. Paste your code from Task 5 into Task 6 and write out all of the if statements for the different possibilities that the game of rock paper scissors has, I have done the first one for you. "
   ],
   "metadata": {}
  },
  {
   "cell_type": "code",
   "execution_count": null,
   "source": [
    "# Task 6\n",
    "# Paste your code from Task 5 here\n",
    "\n",
    "if userChoice == \"rock\" and computerChoice == \"rock\":\n",
    "    print(\"It's a tie\")"
   ],
   "outputs": [],
   "metadata": {}
  },
  {
   "cell_type": "markdown",
   "source": [
    "### Congrats, you have completed your first Python project!"
   ],
   "metadata": {}
  }
 ],
 "metadata": {
  "orig_nbformat": 4,
  "language_info": {
   "name": "python",
   "version": "3.9.6",
   "mimetype": "text/x-python",
   "codemirror_mode": {
    "name": "ipython",
    "version": 3
   },
   "pygments_lexer": "ipython3",
   "nbconvert_exporter": "python",
   "file_extension": ".py"
  },
  "kernelspec": {
   "name": "python3",
   "display_name": "Python 3.9.6 64-bit"
  },
  "interpreter": {
   "hash": "aee8b7b246df8f9039afb4144a1f6fd8d2ca17a180786b69acc140d282b71a49"
  }
 },
 "nbformat": 4,
 "nbformat_minor": 2
}