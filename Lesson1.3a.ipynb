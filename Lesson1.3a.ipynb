{
 "cells": [
  {
   "cell_type": "markdown",
   "source": [
    "# **Python 101 by DefHacks x Codettes**\n",
    "## Lesson 1.3a: The Quadratic Formula\n",
    "### The Quadratic Formula is used to find the x-intercepts in the quadratic equation.\n",
    "### The quadratic is written as ax^2 + bx + c, a != 0\n",
    "### The quadratic formula, (-b ± √(b^2 - 4ac))/2a, can be used to solve for x\n",
    "### **In this program, you will ask the user to input the values for a,b, and c, and you will output the two answers for x**\n",
    "<br/> \n",
    "\n",
    "### To begin, we will need to import the math moduule and define the three variables asking for a, b, and c. Do this in Task 1:"
   ],
   "metadata": {}
  },
  {
   "cell_type": "code",
   "execution_count": null,
   "source": [
    "# Task 1\n"
   ],
   "outputs": [],
   "metadata": {}
  },
  {
   "cell_type": "markdown",
   "source": [
    "### Now that you have the information that youu need, you will need to calculate the two values of x, x1 and x2.\n",
    "### **In Task 2, make these two variables and calculate for the value of x1 and x2**\n",
    "### Hint: To calculate exponents you can do a**b, which is the same as a^b\n",
    "\n"
   ],
   "metadata": {}
  },
  {
   "cell_type": "code",
   "execution_count": null,
   "source": [
    "# Task 2"
   ],
   "outputs": [],
   "metadata": {}
  },
  {
   "cell_type": "markdown",
   "source": [
    "### Now, you will need to print the results that you got. Do them in the following format:\n",
    "### In the equation ax^2 + bx + c = 0 (use the values that the user put in)\n",
    "### x1 = ___\n",
    "### x2 = ___\n",
    "### In task 3, paste your work from Task 1 and Task 2 and complete the print statements:"
   ],
   "metadata": {}
  },
  {
   "cell_type": "code",
   "execution_count": null,
   "source": [
    "# Task 3\n",
    "# Paste Task 1\n",
    "# Paste Task 2\n"
   ],
   "outputs": [],
   "metadata": {}
  },
  {
   "cell_type": "markdown",
   "source": [
    "### Congrats on finishing all of Lesson 1!"
   ],
   "metadata": {}
  }
 ],
 "metadata": {
  "orig_nbformat": 4,
  "language_info": {
   "name": "python",
   "version": "3.9.6",
   "mimetype": "text/x-python",
   "codemirror_mode": {
    "name": "ipython",
    "version": 3
   },
   "pygments_lexer": "ipython3",
   "nbconvert_exporter": "python",
   "file_extension": ".py"
  },
  "kernelspec": {
   "name": "python3",
   "display_name": "Python 3.9.6 64-bit"
  },
  "interpreter": {
   "hash": "aee8b7b246df8f9039afb4144a1f6fd8d2ca17a180786b69acc140d282b71a49"
  }
 },
 "nbformat": 4,
 "nbformat_minor": 2
}