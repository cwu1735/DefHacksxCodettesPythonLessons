{
 "cells": [
  {
   "cell_type": "markdown",
   "source": [
    "# **Python 101 by DefHacks x Codettes**\r\n",
    "## Lesson 4.2a: Greatest Common Divisor\r\n",
    "### In Lesson 4.2a, your job is to ask the user for two numbers and output the greatest integer that will divide both numbers evenly. \r\n",
    "### **Here is a sample output:**\r\n",
    "### Enter the first number: **16**\r\n",
    "### Enter the second number: **24**\r\n",
    "### The greatest common divisor of 16 and 24 is 8\r\n",
    "### **Another sample output:**\r\n",
    "### Enter the first number: **100**\r\n",
    "### Enter the second number: **25**\r\n",
    "### The greatest common divisor of 100 and 25 is 25\r\n",
    "</br>\r\n",
    "\r\n",
    "### To setup our program, we will need to make the following variables:\r\n",
    "### * A variable (userInput1) that will ask the user to \"Enter the first number: \"\r\n",
    "### * A variable (userInput2) that will ask the user to \"Enter the second number: \"\r\n",
    "### * A variable (greatestCommonDivisor) equal to 0.\r\n",
    "### * A variable (smallestInput) equal to 0\r\n",
    "### **In Task 1, setup your program:**"
   ],
   "metadata": {}
  },
  {
   "cell_type": "code",
   "execution_count": null,
   "source": [
    "# Task 1"
   ],
   "outputs": [],
   "metadata": {}
  },
  {
   "cell_type": "markdown",
   "source": [
    "### Now, we will create an if statement to make smallestInput equal to the smaller number between userInput1 and userInput2. Then, we will need to create a for loop that will go through all the numbers greater than 1 until it reaches the smallest of the two numbers. In this loop, we will also make an if statement where if userInput1 and userInput2 mod (%) a number is equal to 0, greatestCommonDivisor will be equal to that number. \r\n",
    "### **Create the if statement to determine smallestInput and create the for loop in Task 2:**"
   ],
   "metadata": {}
  },
  {
   "cell_type": "code",
   "execution_count": null,
   "source": [
    "# Task 2"
   ],
   "outputs": [],
   "metadata": {}
  },
  {
   "cell_type": "markdown",
   "source": [
    "### Now, we will need give the user the output. The program should print \"The Greatest Common Divisor of ___ and ___ is ___\"\r\n",
    "### **In Task 3, paste your work from Task 1 and Task 2, and output the results to the user:**"
   ],
   "metadata": {}
  },
  {
   "cell_type": "code",
   "execution_count": null,
   "source": [
    "# Task 3\r\n",
    "# Paste Task 1 Work\r\n",
    "# Paste Task 2 Work"
   ],
   "outputs": [],
   "metadata": {}
  },
  {
   "cell_type": "markdown",
   "source": [
    "### Congrats on finishing Lesson 4.2, you can now move onto Lesson 5."
   ],
   "metadata": {}
  }
 ],
 "metadata": {
  "orig_nbformat": 4,
  "language_info": {
   "name": "python",
   "version": "3.9.5"
  },
  "kernelspec": {
   "name": "python3",
   "display_name": "Python 3.9.5 64-bit"
  },
  "interpreter": {
   "hash": "57990f1ad2ea89c67ddae7f31d40c478205c5912da0fccfb7c5cfbb2b8bf17ad"
  }
 },
 "nbformat": 4,
 "nbformat_minor": 2
}