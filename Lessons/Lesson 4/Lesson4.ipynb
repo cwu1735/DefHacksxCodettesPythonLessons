{
 "cells": [
  {
   "cell_type": "markdown",
   "source": [
    "# **Python 101 by DefHacks x Codettes**\r\n",
    "## Lesson 4: For Loops\r\n",
    "### Hello everyone, welcome to the first of many Python lessons that we will have this year where you will get a chance to learn the basics of Python. The end goal is to be able to create projects of your choice by the time the Hackathon comes around in the second semester. In this lesson we will be going over for loops. If you have any questions, you may ask any of the DefHacks or Codettes execs or consult with the answer key. Good luck!"
   ],
   "metadata": {}
  },
  {
   "cell_type": "markdown",
   "source": [
    "## For Loops\r\n",
    "### A for loop is a loop similar to a while loop but is more efficient in some ways. For loops are useful in scenarios where there is counting until the loop has counted to a certain amount. In contrast, while loops can have \"while True\" which will run forever until we break the function/make it false. Here is an example of a for loop:"
   ],
   "metadata": {}
  },
  {
   "cell_type": "code",
   "execution_count": null,
   "source": [
    "for x in range(11):\r\n",
    "    print(x)"
   ],
   "outputs": [],
   "metadata": {}
  },
  {
   "cell_type": "markdown",
   "source": [
    "### This might seem like a very familiar example as it is similar to the first example in Lesson 3. The difference here is that we did not need to have a counter that we would have to increase at the end of each cycle. In terms of formatting, it is pretty much identical to the if statments and the while loop. The only difference is the first line which is in the structure for ___ in ___ :. As you saw in the example above, the program printed 0 and did not print out 11. In the for loops where we use range(a), it includes 0 to a-1. Here is another example of a for loop where we can change the first number of the for loop:"
   ],
   "metadata": {}
  },
  {
   "cell_type": "code",
   "execution_count": null,
   "source": [
    "for x in range(3, 11):\r\n",
    "    print(x)"
   ],
   "outputs": [],
   "metadata": {}
  },
  {
   "cell_type": "markdown",
   "source": [
    "### Here, we have added an extra number in range(a,b) where a is the starting number and b-1 is the last number. We also saw in Lesson 3 that we can increase x by certain increments, we can do this in for loops as well using range(a, b, c), where a is the first number, b-1 is the last number and c is the increment. \r\n",
    "### We can also print out all the letters in a word like this: \r\n"
   ],
   "metadata": {}
  },
  {
   "cell_type": "code",
   "execution_count": null,
   "source": [
    "for x in \"DefHacks x Codettes\":\r\n",
    "    print(x)"
   ],
   "outputs": [],
   "metadata": {}
  },
  {
   "cell_type": "markdown",
   "source": [
    "### In the example above, x is representing each letter in our string \"DefHacks x Codttes\"\r\n",
    "### **In Task 1, print out only the even numberes from 1 to 20 with a for loop:**"
   ],
   "metadata": {}
  },
  {
   "cell_type": "code",
   "execution_count": null,
   "source": [
    "# Task 1\r\n"
   ],
   "outputs": [],
   "metadata": {}
  },
  {
   "cell_type": "markdown",
   "source": [
    "### **In Task 2, print out all the numbers divisible by five from 30 to 0 by using a for loop:**"
   ],
   "metadata": {}
  },
  {
   "cell_type": "code",
   "execution_count": null,
   "source": [
    "# Task 2\r\n"
   ],
   "outputs": [],
   "metadata": {}
  },
  {
   "cell_type": "markdown",
   "source": [
    "### **In Task 3, ask the user with userInput to input a word or phrase and print out userInput letter by letter with a for loop:**"
   ],
   "metadata": {}
  },
  {
   "cell_type": "code",
   "execution_count": null,
   "source": [
    "# Task 3"
   ],
   "outputs": [],
   "metadata": {}
  },
  {
   "cell_type": "markdown",
   "source": [
    "### You have now completed Lesson 4 and can now move onto Lesson 4.1"
   ],
   "metadata": {}
  }
 ],
 "metadata": {
  "orig_nbformat": 4,
  "language_info": {
   "name": "python",
   "version": "3.9.6",
   "mimetype": "text/x-python",
   "codemirror_mode": {
    "name": "ipython",
    "version": 3
   },
   "pygments_lexer": "ipython3",
   "nbconvert_exporter": "python",
   "file_extension": ".py"
  },
  "kernelspec": {
   "name": "python3",
   "display_name": "Python 3.9.5 64-bit"
  },
  "interpreter": {
   "hash": "57990f1ad2ea89c67ddae7f31d40c478205c5912da0fccfb7c5cfbb2b8bf17ad"
  }
 },
 "nbformat": 4,
 "nbformat_minor": 2
}