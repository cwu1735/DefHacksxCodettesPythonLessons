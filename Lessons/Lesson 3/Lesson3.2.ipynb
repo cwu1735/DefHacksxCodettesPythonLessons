{
 "cells": [
  {
   "cell_type": "markdown",
   "source": [
    "# **Python 101 by DefHacks x Codettes**\r\n",
    "## Lesson 3.2: Addition Quiz\r\n",
    "### In this project, we will be making a quiz where the user will input the number of addition questions that they want. The program will then give them one question by randomly generating an addition question, say if the answer is right or wrong, and repeat until the amount of questions that the user has asked for is reached. At the end of all the questions, the program should also tell the user how many questions out of the total the user got correctly. \r\n",
    "### **Here is a sample output:**\r\n",
    "### How many questions would you like? **3**\r\n",
    "### What is 2 + 5? **7**\r\n",
    "### Correct!\r\n",
    "### What is 10 + 17? **15**\r\n",
    "### Incorrect! The correct answer was 27\r\n",
    "### What is 25 + 34? **59**\r\n",
    "### Correct!\r\n",
    "### You got 2 out of 3 questions right\r\n",
    "</br>\r\n",
    "\r\n",
    "### If you would like to be guided through the process of making this project, complete Lesson 3.2a\r\n",
    "### **Complete the following task in Task 1:**"
   ],
   "metadata": {}
  },
  {
   "cell_type": "code",
   "execution_count": null,
   "source": [
    "# Task 1\r\n"
   ],
   "outputs": [],
   "metadata": {}
  },
  {
   "cell_type": "markdown",
   "source": [
    "### You have now finished all of Lesson 3, you may now move onto Lesson 4. "
   ],
   "metadata": {}
  }
 ],
 "metadata": {
  "orig_nbformat": 4,
  "language_info": {
   "name": "python",
   "version": "3.9.5"
  },
  "kernelspec": {
   "name": "python3",
   "display_name": "Python 3.9.5 64-bit"
  },
  "interpreter": {
   "hash": "57990f1ad2ea89c67ddae7f31d40c478205c5912da0fccfb7c5cfbb2b8bf17ad"
  }
 },
 "nbformat": 4,
 "nbformat_minor": 2
}