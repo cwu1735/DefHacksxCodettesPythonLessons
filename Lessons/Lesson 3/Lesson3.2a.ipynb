{
 "cells": [
  {
   "cell_type": "markdown",
   "source": [
    "# **Python 101 by DefHacks x Codettes**\r\n",
    "## Lesson 3.2a: Addition Quiz\r\n",
    "### In this project, we will be making a quiz where the user will input the number of addition questions that they want. The program will then give them one question by randomly generating an addition question, say if the answer is right or wrong, and repeat until the amount of questions that the user has asked for is reached. At the end of all the questions, the program should also tell the user how many questions out of the total the user got correctly. \r\n",
    "### **Here is a sample output:**\r\n",
    "### How many questions would you like? **3**\r\n",
    "### What is 2 + 5? **7**\r\n",
    "### Correct!\r\n",
    "### What is 10 + 17? **15**\r\n",
    "### Incorrect! The correct answer was 27\r\n",
    "### What is 25 + 34? **59**\r\n",
    "### Correct!\r\n",
    "### You got 2 out of 3 questions right\r\n",
    "</br>\r\n",
    "\r\n",
    "### To setup our program, let's import random and create the following variables:\r\n",
    "### * A variable (numberOfQuestions) asking the user for the number of questions that the user wishes to answer\r\n",
    "### * A variable (correctAnswers) which will be equal to 0. This variable will count how many questions the user gets correctly. \r\n",
    "### * A variable (randomNumber1) equal to 0, which will generate the first of two numbers in the addition question that we will give the user\r\n",
    "### * A variable (randomNumber2) equal to 0, which will generate the second of two numbers in the addition question that we will give the user\r\n",
    "### * A variable (counter) equal to 1, which will count the amount of questions that we have given the user. \r\n",
    "### * A variable (additionQuestion) equal to 0, which will ask the user the addition question and ask them to input the answer.\r\n",
    "### **Complete the setup in Task 1:**"
   ],
   "metadata": {}
  },
  {
   "cell_type": "code",
   "execution_count": null,
   "source": [
    "# Task 1\r\n"
   ],
   "outputs": [],
   "metadata": {}
  },
  {
   "cell_type": "markdown",
   "source": [
    "### Now, we will create our while loop. We will state that while counter is less than or equal to the numberOfQuestions:\r\n",
    "### * We will generate random integers from 1-100 for randomNumber1 and randomNumber2\r\n",
    "### * We will use additionQuestion to print the addition question \"What is ___ + ___?\" where the user will input what they think the answer is.\r\n",
    "### * We will use an if statement stating that if the user got the answer right, it will tell them \"Correct!\" and increase correctAnswers by 1. We will use else to print \"Incorrect! The correct answer was ___\".\r\n",
    "### * We will then increase counter by 1\r\n",
    "</br>\r\n",
    "\r\n",
    "### **Create the while loop in Task 2:**"
   ],
   "metadata": {}
  },
  {
   "cell_type": "code",
   "execution_count": null,
   "source": [
    "# Task 2"
   ],
   "outputs": [],
   "metadata": {}
  },
  {
   "cell_type": "markdown",
   "source": [
    "### Now, we will tell the user how many questions the user got correct by writting \"You got ___ out of ___ questions right\"\r\n",
    "### **In Task 3, paste your work from Task 1 and Task 2, and create the print statement**"
   ],
   "metadata": {}
  },
  {
   "cell_type": "code",
   "execution_count": null,
   "source": [
    "# Task 3\r\n",
    "# Print Task 1 work\r\n",
    "# Print Task 2 Work\r\n"
   ],
   "outputs": [],
   "metadata": {}
  },
  {
   "cell_type": "markdown",
   "source": [
    "### You have now finished all of Lesson 3, you may now move onto Lesson 4. "
   ],
   "metadata": {}
  }
 ],
 "metadata": {
  "orig_nbformat": 4,
  "language_info": {
   "name": "python",
   "version": "3.9.5"
  },
  "kernelspec": {
   "name": "python3",
   "display_name": "Python 3.9.5 64-bit"
  },
  "interpreter": {
   "hash": "57990f1ad2ea89c67ddae7f31d40c478205c5912da0fccfb7c5cfbb2b8bf17ad"
  }
 },
 "nbformat": 4,
 "nbformat_minor": 2
}