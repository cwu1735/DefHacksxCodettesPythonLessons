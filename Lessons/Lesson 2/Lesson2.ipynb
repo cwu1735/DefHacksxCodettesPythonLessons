{
 "cells": [
  {
   "cell_type": "markdown",
   "source": [
    "# **Python 101 by DefHacks x Codettes**"
   ],
   "metadata": {}
  },
  {
   "cell_type": "markdown",
   "source": [
    "### Hello everyone, welcome to the first of many Python lessons that we will have this year where you will get a chance to learn the basics of Python. The end goal is to be able to create projects of your choice by the time the Hackathon comes around in the second semester. In this lesson we will be going over if statements. If you have any questions, you may ask any of the DefHacks or Codettes execs or consult with the answer key. Good luck!"
   ],
   "metadata": {}
  },
  {
   "cell_type": "markdown",
   "source": [
    "# If Statements\n",
    "### If statements evaluates if a statement is true or false. If this statement is true, then the program will be instructed to do something else. In the example of a quiz, you could say that if the user inputs the correct answer, then print the text \"Correct!\".\n",
    "### An if statement can have multiple if's in it, this is called elif which is short for else if. The elif statement is pythons way of saying \"if the previous conditions were not true, then try this condition\".\n",
    "### Finally, an if statement may have an else, which is when all the prvious statements are not true.\n",
    "\n",
    "### To set up an if statement, you will need to compare a situation and determine if it is true or false. These comparisons can include:\n",
    "### * If something is equal to something else (==)\n",
    "### * If something is not equal to something else (!=)\n",
    "### * If something is less than something else (<)\n",
    "### * If something is less or equal to something else (<=)\n",
    "### * If something is greater than something else (>)\n",
    "### * If something is greater than or equal to something else (>=)\n",
    "<br/> \n",
    "<br/> \n",
    "\n",
    "### **Let's look at one example where if statements are used**"
   ],
   "metadata": {}
  },
  {
   "cell_type": "code",
   "execution_count": null,
   "source": [
    "correctAnswer = 4\n",
    "userGuess = int(input(\"Pick a number from 1 to 10\"))\n",
    "if userGuess == correctAnswer:\n",
    "    print(\"You guessed correctly!\")\n",
    "elif userGuess + 1 == correctAnswer or userGuess - 1 == correctAnswer:\n",
    "    print(\"So close!\")\n",
    "else:\n",
    "    print(\"You guessed inccorectly\")"
   ],
   "outputs": [],
   "metadata": {}
  },
  {
   "cell_type": "markdown",
   "source": [
    "# Rock, Paper, Scissors\n",
    "### Now that we have learned some of the important Python concepts, let's put them to test! Let's make a rock paper scissors game. \n",
    "### * Let's begin with the setup, here is what you should have:\n",
    "### * A variable called userChoice which asks the user for rock, paper, or scissors\n",
    "### * A variable called computerChoice which will be rock\n",
    "## Add the following in Task 5:"
   ],
   "metadata": {}
  },
  {
   "cell_type": "code",
   "execution_count": null,
   "source": [
    "# Task 5\n"
   ],
   "outputs": [],
   "metadata": {}
  },
  {
   "cell_type": "markdown",
   "source": [
    "### Now, let's determine the win condition and the winner of the game. We know that rock beats scissors, scissors beats paper, and paper beats rock. Let's put this in terms of an if statement. Paste your code from Task 5 into Task 6 and write out all of the if statements for the different possibilities that the game of rock paper scissors has, I have done the first one for you. "
   ],
   "metadata": {}
  },
  {
   "cell_type": "code",
   "execution_count": null,
   "source": [
    "# Task 6\n",
    "# Paste your code from Task 5 here\n",
    "\n",
    "if userChoice == \"rock\" and computerChoice == \"rock\":\n",
    "    print(\"It's a tie\")"
   ],
   "outputs": [],
   "metadata": {}
  },
  {
   "cell_type": "markdown",
   "source": [
    "### Congrats, you have completed your first Python project!"
   ],
   "metadata": {}
  }
 ],
 "metadata": {
  "orig_nbformat": 4,
  "language_info": {
   "name": "python"
  }
 },
 "nbformat": 4,
 "nbformat_minor": 2
}