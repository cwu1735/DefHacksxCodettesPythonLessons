{
 "cells": [
  {
   "cell_type": "markdown",
   "source": [
    "# **Python 101 by DefHacks x Codettes**\r\n",
    "## Lesson 2: If Statements"
   ],
   "metadata": {}
  },
  {
   "cell_type": "markdown",
   "source": [
    "### Hello everyone, welcome to our second Python lesson. In this lesson we will be going over if statements. This is a shorter leson, but an important one to understand how if statements work. If you have any questions, you may ask any of the DefHacks or Codettes execs or consult with the answer key. Good luck!"
   ],
   "metadata": {}
  },
  {
   "cell_type": "markdown",
   "source": [
    "# If Statements\n",
    "### If statements evaluates if a statement is true or false. If this statement is true, then the program will be instructed to do something else. In the example of a quiz, you could say that if the user inputs the correct answer, then print the text \"Correct!\".\n",
    "\n",
    "\n",
    "### To set up an if statement, you will need to compare a situation and determine if it is true or false. These comparisons can include:\n",
    "### * If something is equal to something else (==)\n",
    "### * If something is not equal to something else (!=)\n",
    "### * If something is less than something else (<)\n",
    "### * If something is less or equal to something else (<=)\n",
    "### * If something is greater than something else (>)\n",
    "### * If something is greater than or equal to something else (>=)\n",
    "<br/> \n",
    "<br/> \n",
    "\n",
    "### **Let's look at one example where if statements are used**"
   ],
   "metadata": {}
  },
  {
   "cell_type": "code",
   "execution_count": null,
   "source": [
    "x = 20\r\n",
    "y = 30\r\n",
    "if y > x: # Initiate the if statement with a colon\r\n",
    "    print(\"y is bigger than x\") # Anything that you want to be done if y > x should be indented"
   ],
   "outputs": [],
   "metadata": {}
  },
  {
   "cell_type": "markdown",
   "source": [
    "## **Formatting**\r\n",
    "### As you can see from the previous example, the formatting and indentation in the if statement is different than what we have seen so far. In Pyhon, we first write a comparison that can be True or False and then begin it with a colon (:). As mentioned before, when an if statement is ture, the program will be instructed to do something else. In order for the program to know if the instruction you want it to do is regardless of an if statement or only if the if statement is true, we need to indent all the lines that will only be run if the if statement is true. This is seen in the previous example where the text \"y is bigger than x\" only applies when y is greater than x.\r\n",
    "</br>\r\n",
    "\r\n",
    "### Let's try an example on our own. We will make a game where users must guess a number from 1 to 10. To setup, we will need to import the random module and create two variables:\r\n",
    "### * One variable (randomNumber) that generates a random number from 1-10\r\n",
    "### * One variable (userGuess) that asks the user to input a number\r\n",
    "### **Do the following in Task 1:**"
   ],
   "metadata": {}
  },
  {
   "cell_type": "code",
   "execution_count": null,
   "source": [
    "# Task 1\r\n"
   ],
   "outputs": [],
   "metadata": {}
  },
  {
   "cell_type": "markdown",
   "source": [
    "### Now let's setup a win condition, create an if statement below where if the user's guess is the same as the generated number, you will print the text \"You guessed the right number\". \n",
    "### **Do the following in Task 2:**"
   ],
   "metadata": {}
  },
  {
   "cell_type": "code",
   "execution_count": 1,
   "source": [
    "# Task 2\r\n"
   ],
   "outputs": [],
   "metadata": {}
  },
  {
   "cell_type": "markdown",
   "source": [
    "## **Elif Statements**\n",
    "### You may have noticed that in this game, there are multiple scenarios that can happen with a user's guess. The number can be too high, too low, or correct. This is where elif (else if) statements come in. Elif statements are structured the exact same way as if statements, but have an elif instead of an if. \n",
    "### **Do the following in Task 3:**"
   ],
   "metadata": {}
  },
  {
   "cell_type": "code",
   "execution_count": null,
   "source": [
    "# Task 3\r\n",
    "# Paste work from Task 1\r\n",
    "# Paste work from Task 2\r\n"
   ],
   "outputs": [],
   "metadata": {}
  },
  {
   "cell_type": "markdown",
   "source": [
    "## **And & Or**\n",
    "### So far, we have seen that if statements have one comparison that if true, does something else, and if false does not do anything. In our comparisons, we can have multiple comparisons at once. \n",
    "</br>\n",
    "\n",
    "## And\n",
    "### And is used when you have two or more comparisons that must be true in order for something to happen. The comparisons that are connected with an and must both be true in order for the if statement as a whole to be true. One example could be a situation where there are three variables: a, b, and c. You could say that if a > b and b > c, you would print that a is the biggest number and c is the smallest number.\n",
    "</br>\n",
    "\n",
    "## Or\n",
    "### Or is used when you have multiple comparisons but only one of the comparisons has to be true in order for something else to happen. In the guessing game, you could make an if statement where if the guess is one more or one less than the random number, you would print \"So close!\"\n",
    "### **In Task 4, paste your work from Task 1 and Task 2 and implement this or statement:**"
   ],
   "metadata": {}
  },
  {
   "cell_type": "code",
   "execution_count": null,
   "source": [
    "# Task 4\r\n",
    "# Paste your work from Task 1\r\n",
    "# Paste your work from Task 2\r\n"
   ],
   "outputs": [],
   "metadata": {}
  },
  {
   "cell_type": "markdown",
   "source": [
    "## **Else**\r\n",
    "### In addition to if and elif statements, there is also an else. The else statement esentially says that if all preceeding conditions are not true, do this. Keep in mind that you can have an if/else statement without have elif statements. \r\n",
    "### **In Task 5, paste your work from Task 4 and add an else statement at the end that says \"Incorrect answer\":**"
   ],
   "metadata": {}
  },
  {
   "cell_type": "code",
   "execution_count": null,
   "source": [
    "# Task 5\r\n",
    "# Paste your work from Task 4\r\n"
   ],
   "outputs": [],
   "metadata": {}
  },
  {
   "cell_type": "markdown",
   "source": [
    "### You have now completed Lesson 2, you may now go and work on Lesson 2.1"
   ],
   "metadata": {}
  }
 ],
 "metadata": {
  "orig_nbformat": 4,
  "language_info": {
   "name": "python",
   "version": "3.9.6",
   "mimetype": "text/x-python",
   "codemirror_mode": {
    "name": "ipython",
    "version": 3
   },
   "pygments_lexer": "ipython3",
   "nbconvert_exporter": "python",
   "file_extension": ".py"
  },
  "kernelspec": {
   "name": "python3",
   "display_name": "Python 3.9.6 64-bit"
  },
  "interpreter": {
   "hash": "aee8b7b246df8f9039afb4144a1f6fd8d2ca17a180786b69acc140d282b71a49"
  }
 },
 "nbformat": 4,
 "nbformat_minor": 2
}