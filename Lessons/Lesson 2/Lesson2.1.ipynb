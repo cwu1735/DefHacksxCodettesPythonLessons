{
 "cells": [
  {
   "cell_type": "markdown",
   "source": [
    "# **Python 101 by DefHacks x Codettes**\n",
    "## Lesson 2.1: Chinese Zodiac Sign Calculator\n",
    "### The Chinese zodiac is a classification scheme based on the lunar calendar that assigns an animal and its reputed attributes to each year in a repeating 12-year cycle. Each year represents a different animal, 2021 represents the year of the Ox. The animal that represents a corresponding year can be calculated by using modulus (%):\n",
    "### * If the year % 12 == \n"
   ],
   "metadata": {}
  }
 ],
 "metadata": {
  "orig_nbformat": 4,
  "language_info": {
   "name": "python"
  }
 },
 "nbformat": 4,
 "nbformat_minor": 2
}