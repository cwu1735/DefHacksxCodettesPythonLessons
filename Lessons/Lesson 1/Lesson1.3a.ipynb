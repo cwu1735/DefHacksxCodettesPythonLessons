{
 "cells": [
  {
   "cell_type": "markdown",
   "source": [
    "# **Python 101 by DefHacks x Codettes**\r\n",
    "## Lesson 1.3a: The Quadratic Formula\r\n",
    "### The Quadratic Formula is used to find the x-intercepts in the quadratic equation.\r\n",
    "### The quadratic is written as ax^2 + bx + c, a != 0\r\n",
    "### The quadratic formula, (-b ± √(b^2 - 4ac))/2a, can be used to solve for x\r\n",
    "### **In this program, you will ask the user to input the values for a,b, and c, and you will output the two answers for x**\r\n",
    "### **Here is a sample output:**\r\n",
    "### What is the value of a? **1**\r\n",
    "### What is the value of b? **-3**\r\n",
    "### What is the value of c? **-4**\r\n",
    "### In the equation 1x^2 + -3x + -4 = 0\r\n",
    "### x1 = 4.0\r\n",
    "### x2 = -1.0\r\n",
    "<br/> \r\n",
    "\r\n",
    "### To begin, we will need to import the math moduule and define the three variables asking for a, b, and c. Do this in Task 1:"
   ],
   "metadata": {}
  },
  {
   "cell_type": "code",
   "execution_count": null,
   "source": [
    "# Task 1\r\n"
   ],
   "outputs": [],
   "metadata": {}
  },
  {
   "cell_type": "markdown",
   "source": [
    "### Now that you have the information that youu need, you will need to calculate the two values of x, x1 and x2.\n",
    "### **In Task 2, make these two variables and calculate for the value of x1 and x2**\n",
    "### Hint: To calculate exponents you can do a**b, which is the same as a^b\n",
    "\n"
   ],
   "metadata": {}
  },
  {
   "cell_type": "code",
   "execution_count": null,
   "source": [
    "# Task 2"
   ],
   "outputs": [],
   "metadata": {}
  },
  {
   "cell_type": "markdown",
   "source": [
    "### Now, you will need to print the results that you got. Do them in the following format:\n",
    "### In the equation ax^2 + bx + c = 0 (use the values that the user put in)\n",
    "### x1 = ___\n",
    "### x2 = ___\n",
    "### In task 3, paste your work from Task 1 and Task 2 and complete the print statements:"
   ],
   "metadata": {}
  },
  {
   "cell_type": "code",
   "execution_count": null,
   "source": [
    "# Task 3\r\n",
    "# Paste Task 1\r\n",
    "# Paste Task 2\r\n"
   ],
   "outputs": [],
   "metadata": {}
  },
  {
   "cell_type": "markdown",
   "source": [
    "### Congrats on finishing all of Lesson 1! You may now move onto Lesson 2"
   ],
   "metadata": {}
  }
 ],
 "metadata": {
  "orig_nbformat": 4,
  "language_info": {
   "name": "python",
   "version": "3.9.6",
   "mimetype": "text/x-python",
   "codemirror_mode": {
    "name": "ipython",
    "version": 3
   },
   "pygments_lexer": "ipython3",
   "nbconvert_exporter": "python",
   "file_extension": ".py"
  },
  "kernelspec": {
   "name": "python3",
   "display_name": "Python 3.9.6 64-bit"
  },
  "interpreter": {
   "hash": "aee8b7b246df8f9039afb4144a1f6fd8d2ca17a180786b69acc140d282b71a49"
  }
 },
 "nbformat": 4,
 "nbformat_minor": 2
}