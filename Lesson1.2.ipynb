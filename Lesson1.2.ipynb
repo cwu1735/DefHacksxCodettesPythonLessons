{
 "cells": [
  {
   "cell_type": "markdown",
   "source": [
    "# **Python 101 by DefHacks x Codettes**\n",
    "## Lesson 1.2: Calculating Volume\n",
    "### In this project, we will be calculating the volume of cubes, cones, and spheres. We will be doing this by asking the user for the required measurements to calculate the volume for each object and then print it out. \n",
    "\n",
    "### * To begin, let's setup our program. We will need to import the math module and setup the following variables in Task 1:\n",
    "### * The volume for a cube is a^3, where a is the length of each edge of the cube. You will need to make one variable here asking users for the length of one edge of the cube\n",
    "### * The volume for a cone is π(r^2)(h/3), where r is the radius of the base of the cone and h is the height of the cone. You will need to make two variables asking users to input these values\n",
    "### * The volume for a sphere is (4/3)πr^3, where r is the radius of the circle. You will need to make one variable asking users to input these values. \n"
   ],
   "metadata": {}
  },
  {
   "cell_type": "code",
   "execution_count": null,
   "source": [
    "# Task 1"
   ],
   "outputs": [],
   "metadata": {}
  },
  {
   "cell_type": "markdown",
   "source": [
    "### Now that we have completed our setup, let's make the calculations. We will need to create three variables:\n",
    "### * A variable for the volume of the cube, where you will calculate the volume of the cube based on the measurement that the user gave\n",
    "### * A variable for the volume of the cone, where you will calculate the volume of the cube based on the measurements that the user gave\n",
    "### * A variable for the volume of the sphere, where you will calculate the volume of the cube based on the measurement that the user gave\n",
    "### Hint: You can use math.pi for the value of pi and a**b for a^b\n",
    "### **Do the following below in Task 2:**"
   ],
   "metadata": {}
  },
  {
   "cell_type": "code",
   "execution_count": null,
   "source": [
    "# Task 2"
   ],
   "outputs": [],
   "metadata": {}
  },
  {
   "cell_type": "markdown",
   "source": [
    "### Lastly, we will need to give out the results.\n",
    "### Here is what it should look like:\n",
    "### The volume of a cube with edge length ___ is ___\n",
    "### The volume of a cone with radius ___ and height ___ is ___\n",
    "### The volume of a sphere with radius ___ is ___\n",
    "### **In Task 3, paste your work from Task 1 and Task 2 and create the 3 print statements:**"
   ],
   "metadata": {}
  },
  {
   "cell_type": "code",
   "execution_count": null,
   "source": [
    "# Task 3\n",
    "# Paste Task 1 Work\n",
    "# Paste Task 2 Work\n",
    "# Do Task 3 Work here"
   ],
   "outputs": [],
   "metadata": {}
  },
  {
   "cell_type": "markdown",
   "source": [
    "### Congrats, you have completed this Python project!"
   ],
   "metadata": {}
  }
 ],
 "metadata": {
  "orig_nbformat": 4,
  "language_info": {
   "name": "python",
   "version": "3.9.6"
  },
  "kernelspec": {
   "name": "python3",
   "display_name": "Python 3.9.6 64-bit"
  },
  "interpreter": {
   "hash": "aee8b7b246df8f9039afb4144a1f6fd8d2ca17a180786b69acc140d282b71a49"
  }
 },
 "nbformat": 4,
 "nbformat_minor": 2
}