{
 "cells": [
  {
   "cell_type": "markdown",
   "source": [
    "# **Python 101 by DefHacks x Codettes**\n",
    "## Lesson 1.3: The Quadratic Formula\n",
    "### The Quadratic Formula is used to find the x-intercepts in the quadratic equation.\n",
    "### The quadratic is written as ax^2 + bx + c, a != 0\n",
    "### The quadratic formula, (-b ± √(b^2 - 4ac))/2a, can be used to solve for x\n",
    "### **In this program, you will ask the user to input the values for a,b, and c, and you will output the two answers for x**\n",
    "### If you would like to be guided through the process of making this project, complete Lesson 1.3a"
   ],
   "metadata": {}
  },
  {
   "cell_type": "code",
   "execution_count": null,
   "source": [
    "# Task 1\n"
   ],
   "outputs": [],
   "metadata": {}
  },
  {
   "cell_type": "markdown",
   "source": [
    "### Congrats on finishing all of Lesson 1!"
   ],
   "metadata": {}
  }
 ],
 "metadata": {
  "orig_nbformat": 4,
  "language_info": {
   "name": "python",
   "version": "3.9.6",
   "mimetype": "text/x-python",
   "codemirror_mode": {
    "name": "ipython",
    "version": 3
   },
   "pygments_lexer": "ipython3",
   "nbconvert_exporter": "python",
   "file_extension": ".py"
  },
  "kernelspec": {
   "name": "python3",
   "display_name": "Python 3.9.6 64-bit"
  },
  "interpreter": {
   "hash": "aee8b7b246df8f9039afb4144a1f6fd8d2ca17a180786b69acc140d282b71a49"
  }
 },
 "nbformat": 4,
 "nbformat_minor": 2
}